{
 "cells": [
  {
   "cell_type": "code",
   "execution_count": 1,
   "metadata": {},
   "outputs": [],
   "source": [
    "import numpy as np\n",
    "from numpy import linalg as LA"
   ]
  },
  {
   "cell_type": "code",
   "execution_count": 2,
   "metadata": {},
   "outputs": [],
   "source": [
    "from learn.plot_deep import plot_deep \n",
    "from learn.matrix_init import matrix_init\n",
    "from learn.neural_layer import neural_layer\n",
    "from learn.dataset_gen import dataset_gen"
   ]
  },
  {
   "cell_type": "code",
   "execution_count": 3,
   "metadata": {},
   "outputs": [
    {
     "name": "stdout",
     "output_type": "stream",
     "text": [
      "singleton  no_of_inputs= 1\n",
      "singleton  no_of_neurons= 2\n",
      "singleton layer_name learning_rate= 0.1\n",
      "singleton  weigths_matrix= [[ 0.23637848  0.78095205]\n",
      " [ 0.24676628 -0.13194804]] (2, 2)\n",
      "params_to_use= [[ 0.23637848  0.78095205]\n",
      " [ 0.24676628 -0.13194804]]\n",
      "singleton  predicted_output_set= (3, 2)\n",
      "predicted_outputs= [[ 0.48314475  0.64900402]\n",
      " [ 1.22344358  0.25315991]\n",
      " [ 1.9637424  -0.1426842 ]]\n",
      "first_loss= [9.51685525 9.35099598]  second_loss= [98.77655642 99.74684009]\n",
      "ASSERT_LOSS= 141.01153096887262  vs  173.43814349956\n",
      "params_to_use= [[ 0.23637848  0.78095205]\n",
      " [ 0.24676628 -0.13194804]]\n",
      "singleton  predicted_output_set= (3, 2)\n",
      "==> layer_predicted_outputs[0]= [0.48314475 0.64900402] (3, 2)\n",
      "==> layer_true_outputs[0]= [ 10 100] (3, 2)\n",
      "*** FINAL_BIAS= 1.1140341176601436 ()\n",
      "*** FINAL_WEIGHTS[0]= 3.609329079554101 (1,)\n",
      "### BACKPROP[0] ->  12.859031155017858 (1,)\n",
      "*** FINAL_BIAS= 10.75563606306315 ()\n",
      "*** FINAL_WEIGHTS[0]= 39.84595682105828 (1,)\n",
      "### BACKPROP[0] ->  138.59380374562446 (1,)\n",
      "ASSERT_BIAS=> 1.1140341176601436  vs  [-3.37340191 -2.85564248]\n",
      "weight_update1= [9.51685525 9.35099598]  weight_update2= [395.10622569 398.98736035]\n",
      "ASSERT_WEIGHT=> [ 3.60932908 39.84595682]  vs  [-13.24066976 -13.74322658]\n",
      "neural_lineup.input_parameters= [[ 1.11403412 10.75563606]\n",
      " [ 3.60932908 39.84595682]]\n"
     ]
    }
   ],
   "source": [
    "# TEST: layer with only one neuron\n",
    "learning_rate = 0.1\n",
    "\n",
    "neural_lineup = neural_layer(no_of_inputs=1, no_of_neurons=2, learning_rate=learning_rate, layer_name=\"singleton\")\n",
    "\n",
    "params_before = neural_lineup.input_parameters.copy()\n",
    "\n",
    "input_vectors = np.array([[1],[4],[7]])\n",
    "number_of_examples = len(input_vectors)\n",
    "expected_outputs = np.array([[10, 100], [10, 100], [10, 100]])\n",
    "\n",
    "neural_lineup.append_bias(input_vectors)\n",
    "\n",
    "predicted_outputs = neural_lineup.forward_propagate(input_vectors)\n",
    "print(\"predicted_outputs=\", predicted_outputs)\n",
    "\n",
    "computed_losss = neural_lineup.compute_loss(predicted_outputs, expected_outputs)\n",
    "\n",
    "first_loss = 10-predicted_outputs[0]\n",
    "second_loss = 100-predicted_outputs[1]\n",
    "print(\"first_loss=\", first_loss, \" second_loss=\", second_loss)\n",
    "\n",
    "true_loss = LA.norm([first_loss, second_loss])\n",
    "print(\"ASSERT_LOSS=\",true_loss, \" vs \", computed_losss)\n",
    "\n",
    "neural_lineup.train(input_vectors, expected_outputs)\n",
    "\n",
    "# Test bias\n",
    "bias_before = params_before[0]\n",
    "cummulative_loss = first_loss + second_loss\n",
    "bias_after =  bias_before - learning_rate * cummulative_loss / number_of_examples\n",
    "print(\"ASSERT_BIAS=>\", neural_lineup.input_parameters[0,0], \" vs \", bias_after)\n",
    "\n",
    "# Test weight\n",
    "weight_before = params_before[1]\n",
    "weight_update1 =  first_loss*input_vectors[0]\n",
    "weight_update2 =  second_loss*input_vectors[1]\n",
    "print(\"weight_update1=\", weight_update1, \" weight_update2=\", weight_update2)\n",
    "weight_update = weight_update1 + weight_update2\n",
    "weight_after = weight_before - learning_rate * weight_update / number_of_examples\n",
    "print(\"ASSERT_WEIGHT=>\", neural_lineup.input_parameters[1], \" vs \", weight_after)\n",
    "\n",
    "print(\"neural_lineup.input_parameters=\", neural_lineup.input_parameters)\n"
   ]
  },
  {
   "cell_type": "code",
   "execution_count": 4,
   "metadata": {},
   "outputs": [
    {
     "name": "stdout",
     "output_type": "stream",
     "text": [
      "single_layer  no_of_inputs= 2\n",
      "single_layer  no_of_neurons= 3\n",
      "single_layer layer_name learning_rate= 0.1\n",
      "single_layer  weigths_matrix= [[ 0.64474852 -0.03527823  0.6482838 ]\n",
      " [ 0.65300516  0.01944609  0.16344972]\n",
      " [-0.05184443 -0.12605362  0.30704257]] (3, 3)\n",
      "params_to_use= [[ 0.64474852 -0.03527823  0.6482838 ]\n",
      " [ 0.65300516  0.01944609  0.16344972]\n",
      " [-0.05184443 -0.12605362  0.30704257]]\n",
      "single_layer  predicted_output_set= (2, 3)\n",
      "first_loss= [9.51685525 9.35099598]  second_loss= [98.77655642 99.74684009]\n",
      "ASSERT_LOSS= 141.01153096887262  vs  173.43814349956\n",
      "params_to_use= [[ 0.64474852 -0.03527823  0.6482838 ]\n",
      " [ 0.65300516  0.01944609  0.16344972]\n",
      " [-0.05184443 -0.12605362  0.30704257]]\n",
      "single_layer  predicted_output_set= (2, 3)\n",
      "==> layer_predicted_outputs[0]= [ 1.09037595 -0.52004662  2.03990381] (2, 3)\n",
      "==> layer_true_outputs[0]= [  10  100 1000] (2, 3)\n",
      "*** FINAL_BIAS= 1.5337420107856135 ()\n",
      "*** FINAL_WEIGHTS[0]= 1.5863498787263504 (2,)\n",
      "### BACKPROP[0] ->  16.973483819183308 (2,)\n",
      "*** FINAL_BIAS= 10.019780537705675 ()\n",
      "*** FINAL_WEIGHTS[0]= 10.577410509683785 (2,)\n",
      "### BACKPROP[0] ->  191.95743645288553 (2,)\n",
      "*** FINAL_BIAS= 100.43580010402616 ()\n",
      "*** FINAL_WEIGHTS[0]= 104.93991717580296 (2,)\n",
      "### BACKPROP[0] ->  1905.0421234023963 (2,)\n",
      "ASSERT_BIAS=> 1.5337420107856135  vs  -2.965031868130489\n",
      "ASSERT_WEIGHT=> 10.019780537705675  vs  1.4488706644715248\n",
      "neural_lineup.input_parameters= [[  1.53374201  10.01978054 100.4358001 ]\n",
      " [  1.58634988  10.57741051 104.93991718]\n",
      " [  3.72588567  42.60870969 424.40186355]]\n"
     ]
    }
   ],
   "source": [
    "# TEST: layer with multiple neurons\n",
    "learning_rate = 0.1\n",
    "\n",
    "neural_lineup = neural_layer(no_of_inputs=2, no_of_neurons=3, learning_rate=learning_rate, layer_name=\"single_layer\")\n",
    "\n",
    "params_before = neural_lineup.input_parameters.copy()\n",
    "\n",
    "input_vectors = np.array([[1, 4],[1.1, 4.5]])\n",
    "expected_outputs = np.array([[10, 100, 1000], [10, 100, 1000]])\n",
    "\n",
    "neural_lineup.forward_propagate(input_vectors)\n",
    "\n",
    "first_loss = 10-predicted_outputs[0]\n",
    "second_loss = 100-predicted_outputs[1]\n",
    "print(\"first_loss=\", first_loss, \" second_loss=\", second_loss)\n",
    "true_loss = LA.norm([first_loss, second_loss])\n",
    "print(\"ASSERT_LOSS=\",true_loss, \" vs \", computed_losss)\n",
    "\n",
    "neural_lineup.train(input_vectors, expected_outputs)\n",
    "\n",
    "# Test bias\n",
    "bias_before = params_before[0][0]\n",
    "cummulative_loss = first_loss[0] + second_loss[0]\n",
    "bias_after =  bias_before - learning_rate * cummulative_loss / number_of_examples\n",
    "print(\"ASSERT_BIAS=>\", neural_lineup.input_parameters[0,0], \" vs \", bias_after)\n",
    "\n",
    "\n",
    "# Test weight\n",
    "weight_before = params_before[0][1]  # first neuron, first weight\n",
    "weight_update1 =  weight_before-learning_rate*true_loss*input_vectors[0][0]\n",
    "weight_update2 =  weight_before-learning_rate*true_loss*input_vectors[1][0]\n",
    "weight_update = weight_update1 + weight_update2\n",
    "weight_after = weight_before - learning_rate * weight_update /2\n",
    "print(\"ASSERT_WEIGHT=>\", neural_lineup.input_parameters[0][1], \" vs \", weight_after)\n",
    "\n",
    "print(\"neural_lineup.input_parameters=\", neural_lineup.input_parameters)\n",
    "\n",
    "\n",
    "# # Test weight\n",
    "# weight_before = params_before[1,1]\n",
    "# input_column = input_vectors[0][0]\n",
    "# weight_after =  weight_before-learning_rate*layer_loss*input_column\n",
    "# print(\"ASSERT_WEIGHT=>\", neural_lineup.input_parameters[1,1], \" vs \", weight_after)\n"
   ]
  },
  {
   "cell_type": "code",
   "execution_count": 8,
   "metadata": {},
   "outputs": [
    {
     "name": "stdout",
     "output_type": "stream",
     "text": [
      "least_squares_network  no_of_inputs= 2\n",
      "least_squares_network  no_of_neurons= 1\n",
      "least_squares_network layer_name learning_rate= 0.0001\n",
      "least_squares_network  weigths_matrix= [[0.48376209]\n",
      " [0.57525265]\n",
      " [0.49963019]] (3, 1)\n",
      "params_to_use= [[0.48376209]\n",
      " [0.57525265]\n",
      " [0.49963019]]\n",
      "least_squares_network  predicted_output_set= (10, 1)\n",
      "==> layer_predicted_outputs[0]= [45.33707019] (10, 1)\n",
      "==> layer_true_outputs[0]= 167.77830166029685 (10,)\n",
      "*** FINAL_BIAS= [0.49342291] (1,)\n",
      "*** FINAL_WEIGHTS[0]= 0.6319739681466459 (2,)\n",
      "### BACKPROP[0] ->  212.62719444362222 (2,)\n",
      "params_to_use= [[0.49342291]\n",
      " [0.63197397]\n",
      " [1.27287275]]\n",
      "least_squares_network  predicted_output_set= (10, 1)\n",
      "==> layer_predicted_outputs[0]= [107.23332663] (10, 1)\n",
      "==> layer_true_outputs[0]= 167.77830166029685 (10,)\n",
      "*** FINAL_BIAS= [0.49817353] (1,)\n",
      "*** FINAL_WEIGHTS[0]= 0.6599733029577178 (2,)\n",
      "### BACKPROP[0] ->  104.10815790018573 (2,)\n",
      "params_to_use= [[0.49817353]\n",
      " [0.6599733 ]\n",
      " [1.65195217]]\n",
      "least_squares_network  predicted_output_set= (10, 1)\n",
      "==> layer_predicted_outputs[0]= [137.57949468] (10, 1)\n",
      "==> layer_true_outputs[0]= 167.77830166029685 (10,)\n",
      "*** FINAL_BIAS= [0.50051682] (1,)\n",
      "*** FINAL_WEIGHTS[0]= 0.6738909958847099 (2,)\n",
      "### BACKPROP[0] ->  50.90513508881648 (2,)\n",
      "params_to_use= [[0.50051682]\n",
      " [0.673891  ]\n",
      " [1.83778734]]\n",
      "least_squares_network  predicted_output_set= (10, 1)\n",
      "==> layer_predicted_outputs[0]= [152.45776824] (10, 1)\n",
      "==> layer_true_outputs[0]= 167.77830166029685 (10,)\n",
      "*** FINAL_BIAS= [0.50167987] (1,)\n",
      "*** FINAL_WEIGHTS[0]= 0.6809046898870442 (2,)\n",
      "### BACKPROP[0] ->  24.821599347876887 (2,)\n",
      "params_to_use= [[0.50167987]\n",
      " [0.68090469]\n",
      " [1.92888172]]\n",
      "least_squares_network  predicted_output_set= (10, 1)\n",
      "==> layer_predicted_outputs[0]= [159.75267879] (10, 1)\n",
      "==> layer_true_outputs[0]= 167.77830166029685 (10,)\n",
      "*** FINAL_BIAS= [0.50226426] (1,)\n",
      "*** FINAL_WEIGHTS[0]= 0.6845333300828041 (2,)\n",
      "### BACKPROP[0] ->  12.033789895566553 (2,)\n",
      "params_to_use= [[0.50226426]\n",
      " [0.68453333]\n",
      " [1.97352805]]\n",
      "least_squares_network  predicted_output_set= (10, 1)\n",
      "==> layer_predicted_outputs[0]= [163.32973351] (10, 1)\n",
      "==> layer_true_outputs[0]= 167.77830166029685 (10,)\n",
      "*** FINAL_BIAS= [0.50256494] (1,)\n",
      "*** FINAL_WEIGHTS[0]= 0.6865021313071362 (2,)\n",
      "### BACKPROP[0] ->  5.764405242063345 (2,)\n",
      "params_to_use= [[0.50256494]\n",
      " [0.68650213]\n",
      " [1.99540256]]\n",
      "least_squares_network  predicted_output_set= (10, 1)\n",
      "==> layer_predicted_outputs[0]= [165.08405401] (10, 1)\n",
      "==> layer_true_outputs[0]= 167.77830166029685 (10,)\n",
      "*** FINAL_BIAS= [0.50272649] (1,)\n",
      "*** FINAL_WEIGHTS[0]= 0.6876569058130567 (2,)\n",
      "### BACKPROP[0] ->  2.6907739227348455 (2,)\n",
      "params_to_use= [[0.50272649]\n",
      " [0.68765691]\n",
      " [2.00611287]]\n",
      "least_squares_network  predicted_output_set= (10, 1)\n",
      "==> layer_predicted_outputs[0]= [165.94475146] (10, 1)\n",
      "==> layer_true_outputs[0]= 167.77830166029685 (10,)\n",
      "*** FINAL_BIAS= [0.50281981] (1,)\n",
      "*** FINAL_WEIGHTS[0]= 0.6884123258381101 (2,)\n",
      "### BACKPROP[0] ->  1.5136820679832357 (2,)\n",
      "params_to_use= [[0.50281981]\n",
      " [0.68841233]\n",
      " [2.01134979]]\n",
      "least_squares_network  predicted_output_set= (10, 1)\n",
      "==> layer_predicted_outputs[0]= [166.36733624] (10, 1)\n",
      "==> layer_true_outputs[0]= 167.77830166029685 (10,)\n",
      "*** FINAL_BIAS= [0.50287965] (1,)\n",
      "*** FINAL_WEIGHTS[0]= 0.6889716909027785 (2,)\n",
      "### BACKPROP[0] ->  1.5213883151148755 (2,)\n",
      "params_to_use= [[0.50287965]\n",
      " [0.68897169]\n",
      " [2.01390332]]\n",
      "least_squares_network  predicted_output_set= (10, 1)\n",
      "==> layer_predicted_outputs[0]= [166.57512899] (10, 1)\n",
      "==> layer_true_outputs[0]= 167.77830166029685 (10,)\n",
      "*** FINAL_BIAS= [0.50292307] (1,)\n",
      "*** FINAL_WEIGHTS[0]= 0.6894346719520696 (2,)\n",
      "### BACKPROP[0] ->  1.6765358471448277 (2,)\n",
      "params_to_use= [[0.50292307]\n",
      " [0.68943467]\n",
      " [2.01514129]]\n",
      "least_squares_network  predicted_output_set= (10, 1)\n"
     ]
    }
   ],
   "source": [
    "import numpy as np\n",
    "import matplotlib.pyplot as plt \n",
    "\n",
    "random_input_set, input_examples, output_training_set, training_dataset = dataset_gen.get_test_dataset()\n",
    "neuron_x, neuron_x_losses = dataset_gen.run_training(random_input_set, \\\n",
    "                                                     input_examples, output_training_set, training_dataset)\n",
    "predicted_outputs = neuron_x.forward_propagate(input_examples)\n",
    "evaluated_dataset = np.column_stack((random_input_set, predicted_outputs))\n"
   ]
  },
  {
   "cell_type": "code",
   "execution_count": 7,
   "metadata": {},
   "outputs": [
    {
     "data": {
      "image/png": "[encoded data removed]",
      "text/plain": [
       "<Figure size 432x288 with 1 Axes>"
      ]
     },
     "metadata": {},
     "output_type": "display_data"
    }
   ],
   "source": [
    "plot_deep.plot_multi_line(training_dataset, 'true output', evaluated_dataset, 'predicted output', \\\n",
    "                'training (neural_layer)', 'input', 'true output')\n"
   ]
  },
  {
   "cell_type": "code",
   "execution_count": 6,
   "metadata": {},
   "outputs": [
    {
     "data": {
      "text/plain": [
       "[<matplotlib.lines.Line2D at 0x7f61b6eb1c18>]"
      ]
     },
     "execution_count": 6,
     "metadata": {},
     "output_type": "execute_result"
    },
    {
     "data": {
      "image/png": "[encoded data removed]",
      "text/plain": [
       "<Figure size 432x288 with 1 Axes>"
      ]
     },
     "metadata": {},
     "output_type": "display_data"
    }
   ],
   "source": [
    "# 1 neural_layer: neuralx\n",
    "# print(\"neuron_losses=\", neuron_losses)\n",
    "plot_deep.plot_labeled_line(neuron_x_losses, 'training (neural_layer)', 'epoch', 'loss')\n"
   ]
  }
 ],
 "metadata": {
  "kernelspec": {
   "display_name": "conda_python3",
   "language": "python",
   "name": "conda_python3"
  },
  "language_info": {
   "codemirror_mode": {
    "name": "ipython",
    "version": 3
   },
   "file_extension": ".py",
   "mimetype": "text/x-python",
   "name": "python",
   "nbconvert_exporter": "python",
   "pygments_lexer": "ipython3",
   "version": "3.6.5"
  }
 },
 "nbformat": 4,
 "nbformat_minor": 2
}
