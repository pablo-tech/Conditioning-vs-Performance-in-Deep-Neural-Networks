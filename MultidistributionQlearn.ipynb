{
 "cells": [
  {
   "cell_type": "code",
   "execution_count": 35,
   "metadata": {},
   "outputs": [],
   "source": [
    "import numpy as np"
   ]
  },
  {
   "cell_type": "code",
   "execution_count": 36,
   "metadata": {},
   "outputs": [
    {
     "name": "stdout",
     "output_type": "stream",
     "text": [
      "get_discretized_value(0.76)= 0.76\n",
      "vector_discretized_array()= [ 4.44 24.55 55.66]\n"
     ]
    }
   ],
   "source": [
    "def get_discretized_value(value_point):\n",
    "    return round(value_point, 2)\n",
    "print(\"get_discretized_value(0.76)=\", get_discretized_value(0.76))\n",
    "\n",
    "def discretize_array(x):\n",
    "    return get_discretized_value(x)\n",
    "\n",
    "np.vectorize(discretize_array)\n",
    "\n",
    "def vector_discretized_array(x):\n",
    "    return np.array([discretize_array(xi) for xi in x])\n",
    "\n",
    "print(\"vector_discretized_array()=\", vector_discretized_array((4.44,24.551234,55.661234)))\n"
   ]
  },
  {
   "cell_type": "code",
   "execution_count": 37,
   "metadata": {},
   "outputs": [],
   "source": [
    "### CROSS-VALIDATION\n",
    "from sklearn.model_selection import KFold\n",
    "\n",
    "def get_train_test_datasets(input_dataset):\n",
    "    splitter_size = 100 # 1000\n",
    "    training_size = len(input_dataset)\n",
    "    X_train = input_dataset[0:int(training_size/splitter_size)]\n",
    "    X_test = input_dataset[int(training_size/splitter_size)::]\n",
    "    return X_train, X_test"
   ]
  },
  {
   "cell_type": "code",
   "execution_count": 38,
   "metadata": {},
   "outputs": [],
   "source": [
    "### REWARD\n",
    "def get_reward_from_situation_action(price_situation, actor_action, mean_hidden_from_view):\n",
    "    transaction_cost = 1.0\n",
    "    waiting_penalty = -0.1\n",
    "    if(actor_action==\"DONOTHING_ACTION\"):\n",
    "        return waiting_penalty\n",
    "    if(actor_action==\"ACCUMULATE_ACTION\"):\n",
    "        accumulate_reward = -price_situation+mean_hidden_from_view-transaction_cost\n",
    "        # print(\"price_situation=\", price_situation, \"ACCUMULATE_ACTION reward=\",accumulate_reward)\n",
    "        return accumulate_reward\n",
    "    distribute_reward = price_situation-mean_hidden_from_view-transaction_cost\n",
    "    # print(\"price_situation=\", price_situation, \"DISTRIBUTE_ACTION reward=\",distribute_reward)\n",
    "    return distribute_reward"
   ]
  },
  {
   "cell_type": "code",
   "execution_count": 39,
   "metadata": {},
   "outputs": [],
   "source": [
    "def get_action_utility(input_dataset, actor_action, \n",
    "                      mean_hidden_from_view):\n",
    "    action_dataset = []\n",
    "    \n",
    "    for price_situation in input_dataset:\n",
    "        reward_from_action_in_situation = get_reward_from_situation_action(price_situation, actor_action, mean_hidden_from_view)\n",
    "        training_example = (price_situation, actor_action, reward_from_action_in_situation)\n",
    "        if len(action_dataset)==0:\n",
    "            action_dataset = [training_example]\n",
    "        else:\n",
    "            action_dataset.append(training_example)\n",
    "    return action_dataset   "
   ]
  },
  {
   "cell_type": "code",
   "execution_count": 40,
   "metadata": {},
   "outputs": [
    {
     "name": "stdout",
     "output_type": "stream",
     "text": [
      "AccumulateQualityTable= {3: -0.03925981575906861}\n",
      "DistributeQualityTable= {3: 0.03925981575906861}\n"
     ]
    }
   ],
   "source": [
    "def effect_training(training_example, accumulate_q_table, distribute_q_table):\n",
    "    training_situation = training_example[0]  \n",
    "    training_action = training_example[1]\n",
    "    training_result = training_example[2]\n",
    "    if(training_action==\"ACCUMULATE_ACTION\"):\n",
    "        accumulate_q_table[training_situation] = training_result  # TODO: + discounted future value\n",
    "    if(training_action==\"DISTRIBUTE_ACTION\"):\n",
    "        distribute_q_table[training_situation] = training_result  # TODO: + discounted future value\n",
    "    return accumulate_q_table, distribute_q_table\n",
    "    \n",
    "a1, d1 = effect_training((3, 'ACCUMULATE_ACTION', -0.03925981575906861), {}, {})    \n",
    "a2, d2 = effect_training((3, 'DISTRIBUTE_ACTION', 0.03925981575906861), {}, {})    \n",
    "    \n",
    "print(\"AccumulateQualityTable=\", a1)\n",
    "print(\"DistributeQualityTable=\", d2)"
   ]
  },
  {
   "cell_type": "code",
   "execution_count": 41,
   "metadata": {},
   "outputs": [],
   "source": [
    "# https://pypi.org/project/pyqlearning/\n",
    "def train_model(training_dataset, accumulate_q_table, distribute_q_table):\n",
    "    for taining_example in training_dataset:\n",
    "        effect_training(taining_example, accumulate_q_table, distribute_q_table)\n",
    "    return accumulate_q_table, distribute_q_table\n",
    "    "
   ]
  },
  {
   "cell_type": "code",
   "execution_count": 42,
   "metadata": {},
   "outputs": [],
   "source": [
    "def plot_action_utility(accumulate_q_table, distribute_q_table): \n",
    "    plt.plot(*zip(*sorted(accumulate_q_table.items())))\n",
    "    plt.plot(*zip(*sorted(distribute_q_table.items())))"
   ]
  },
  {
   "cell_type": "code",
   "execution_count": 43,
   "metadata": {},
   "outputs": [],
   "source": [
    "import operator\n",
    "\n",
    "def get_approximate_value(value_table, situation_given):\n",
    "    sorted_dictionary = sorted(value_table.items(), key=operator.itemgetter(0))\n",
    "    approx_value = 0\n",
    "    for key_value in sorted_dictionary:\n",
    "        if(key_value[0]<situation_given):\n",
    "            approx_value=key_value[1]\n",
    "            # print(key_value)\n",
    "    return approx_value"
   ]
  },
  {
   "cell_type": "code",
   "execution_count": 44,
   "metadata": {},
   "outputs": [],
   "source": [
    "def get_bellman_action(situation_given, accumulate_q_table, distribute_q_table):\n",
    "    accumulate_action_value = get_approximate_value(accumulate_q_table, situation_given)\n",
    "    distribute_action_value = get_approximate_value(distribute_q_table, situation_given)\n",
    "    # print(\"accumulate_action_value=\",accumulate_action_value, \"distribute_action_value=\",distribute_action_value)\n",
    "    if(accumulate_action_value>distribute_action_value):\n",
    "        chosen_action = \"ACCUMULATE_ACTION\"\n",
    "    else:\n",
    "        chosen_action = \"DISTRIBUTE_ACTION\"\n",
    "    if(accumulate_action_value<0 and distribute_action_value<0):\n",
    "        chosen_action = \"DONOTHING_ACTION\"\n",
    "    return chosen_action"
   ]
  },
  {
   "cell_type": "code",
   "execution_count": 45,
   "metadata": {},
   "outputs": [],
   "source": [
    "def evaluate_model(input_dataset, training_mean_price,\n",
    "                  accumulate_q_table, distribute_q_table):\n",
    "    mdp_history = []\n",
    "    current_action = \"DONOTHING_ACTION\"\n",
    "    i = 0\n",
    "    for price_situation in input_dataset:\n",
    "        discretized_price = get_discretized_value(price_situation)\n",
    "        actor_action = get_bellman_action(discretized_price, accumulate_q_table, distribute_q_table)\n",
    "        # one at a time\n",
    "        if(actor_action==current_action): \n",
    "            actor_action = \"DONOTHING_ACTION\"\n",
    "        else:\n",
    "            current_action = actor_action # go ahead\n",
    "        actual_reward = get_reward_from_situation_action(discretized_price, actor_action, training_mean_price)\n",
    "        discretized_reward = get_discretized_value(actual_reward)\n",
    "        situation_action_result = [discretized_price, actor_action, discretized_reward]\n",
    "        # print(\"situation_action_result=\",situation_action_result)\n",
    "        if(len(mdp_history)==0):\n",
    "            mdp_history = [situation_action_result]\n",
    "        else:\n",
    "            mdp_history.append(situation_action_result)\n",
    "        effect_training(situation_action_result, accumulate_q_table, distribute_q_table)  # LEARN AS YOU GO!\n",
    "        i += 1\n",
    "    return mdp_history"
   ]
  },
  {
   "cell_type": "code",
   "execution_count": 46,
   "metadata": {},
   "outputs": [],
   "source": [
    "def plot_reward_history(mdp_history): \n",
    "    time_ticks = [i for i in range(len(mdp_history))]\n",
    "    reward_ticks = np.array([column[2] for column in mdp_history])\n",
    "    plt.ylabel('reward($)')\n",
    "    num_buckets = 30\n",
    "    reward_history_plot = plt.plot(time_ticks, reward_ticks)\n",
    "    return reward_history_plot"
   ]
  },
  {
   "cell_type": "code",
   "execution_count": 47,
   "metadata": {},
   "outputs": [],
   "source": [
    "def plot_reward_histogram(mdp_history):    \n",
    "    reward_ticks = np.array([column[2] for column in mdp_history])\n",
    "    plt.ylabel('reward probability (%)')\n",
    "    num_buckets = 30\n",
    "    reward_histogram = plt.hist(reward_ticks, num_buckets, density=True)\n",
    "    return reward_histogram"
   ]
  },
  {
   "cell_type": "code",
   "execution_count": 48,
   "metadata": {},
   "outputs": [],
   "source": [
    "def get_balance_history(mdp_history):\n",
    "    balance_history = []\n",
    "    current_balance = 0\n",
    "    i = 0\n",
    "    for mdp_instant in mdp_history:\n",
    "        current_balance += mdp_instant[2]\n",
    "        balance_at_time = [i, current_balance]\n",
    "        if(len(balance_history)==0):\n",
    "            balance_history = [balance_at_time]\n",
    "        else:\n",
    "            balance_history.append(balance_at_time)\n",
    "        i +=1\n",
    "    return balance_history"
   ]
  },
  {
   "cell_type": "code",
   "execution_count": 49,
   "metadata": {},
   "outputs": [],
   "source": [
    "def plot_balance_history(mdp_history):\n",
    "    balance_history = get_balance_history(mdp_history)\n",
    "    time_ticks = np.array([column[0] for column in balance_history])\n",
    "    account_ticks = np.array([column[1] for column in balance_history])\n",
    "    plt.xlabel('time(t)')\n",
    "    plt.ylabel('balance($)')\n",
    "    balance_history_plot = plt.plot(time_ticks, account_ticks)\n",
    "    return balance_history_plot "
   ]
  },
  {
   "cell_type": "code",
   "execution_count": 50,
   "metadata": {},
   "outputs": [],
   "source": [
    "### EXPECTATION\n",
    "def get_action_rewards(mdp_history, user_action):\n",
    "    action_history = []\n",
    "    for mdp_event in mdp_history:\n",
    "        if(mdp_event[1]==user_action):\n",
    "            if(len(action_history)==0):\n",
    "                action_history = [mdp_event]\n",
    "            else:\n",
    "                action_history.append(mdp_event)\n",
    "            # print(mdp_event)\n",
    "    return action_history"
   ]
  },
  {
   "cell_type": "code",
   "execution_count": 51,
   "metadata": {},
   "outputs": [],
   "source": [
    "def get_reward_histogram(mdp_history, user_action):\n",
    "    reward_history = get_action_rewards(mdp_history, user_action)\n",
    "    reward_ticks = np.array([column[2] for column in reward_history])\n",
    "    plt.ylabel('reward probability (%)')\n",
    "    num_buckets = 10\n",
    "    reward_histogram = plt.hist(reward_ticks, num_buckets, density=True)\n",
    "    return reward_histogram"
   ]
  },
  {
   "cell_type": "code",
   "execution_count": 52,
   "metadata": {},
   "outputs": [],
   "source": [
    "def get_expectation_histogram(reward_histogram):\n",
    "    reward_values = reward_histogram[0]\n",
    "    reward_probability = reward_histogram[1]\n",
    "    num_buckets = 10\n",
    "    reward_expectation = np.multiply(reward_values, reward_probability[0:num_buckets])\n",
    "    plt.ylabel('expectation($)')\n",
    "    expectation_histogram = plt.hist(reward_expectation, num_buckets, density=True)\n",
    "    return expectation_histogram"
   ]
  },
  {
   "cell_type": "code",
   "execution_count": 53,
   "metadata": {},
   "outputs": [],
   "source": [
    "import matplotlib.pyplot as plt\n",
    "import numpy as np\n",
    "\n",
    "def get_raw_dataset(file_name):\n",
    "    raw_dataset = np.load(file_name+\".npy\")\n",
    "    return raw_dataset\n"
   ]
  },
  {
   "cell_type": "code",
   "execution_count": 54,
   "metadata": {},
   "outputs": [],
   "source": [
    "def plot_raw_dataset(raw_dataset):\n",
    "    num_samples = len(raw_dataset)\n",
    "    max_time = num_samples\n",
    "    time_ticks = np.arange(max_time)\n",
    "    plt.xlabel('time(t)')\n",
    "    plt.ylabel('price($)')\n",
    "    raw_plot = plt.plot(time_ticks, raw_dataset)\n",
    "    return raw_plot\n"
   ]
  },
  {
   "cell_type": "code",
   "execution_count": 55,
   "metadata": {},
   "outputs": [],
   "source": [
    "def train_whole_model(X_train):\n",
    "    mean_hidden_from_view = np.mean(X_train)    \n",
    "    accumulate_q_table = {}\n",
    "    distribute_q_table = {}\n",
    "    X_train_accumulate = get_action_utility(X_train, \"ACCUMULATE_ACTION\", mean_hidden_from_view)\n",
    "    X_train_distribute = get_action_utility(X_train, \"DISTRIBUTE_ACTION\", mean_hidden_from_view)\n",
    "    train_model(X_train_accumulate, accumulate_q_table, distribute_q_table)        \n",
    "    train_model(X_train_distribute, accumulate_q_table, distribute_q_table)  \n",
    "    return accumulate_q_table, distribute_q_table\n"
   ]
  },
  {
   "cell_type": "code",
   "execution_count": 56,
   "metadata": {},
   "outputs": [],
   "source": [
    "def get_mdp_history(file_name):\n",
    "    raw_dataset = get_raw_dataset(file_name)\n",
    "    discretized_dataset = vector_discretized_array(raw_dataset)\n",
    "    # print(\"discretized_dataset=\",discretized_dataset)\n",
    "    X_train, X_test = get_train_test_datasets(discretized_dataset)\n",
    "    accumulate_q_table, distribute_q_table = train_whole_model(X_train)\n",
    "    #print(\"len(X_train)=\", len(X_train), \"len(X_test)=\", len(X_test))\n",
    "    training_mean_price = np.average(X_train)\n",
    "    mdp_history = evaluate_model(X_test, training_mean_price, accumulate_q_table, distribute_q_table)\n",
    "    return raw_dataset, mdp_history, accumulate_q_table, distribute_q_table\n"
   ]
  },
  {
   "cell_type": "code",
   "execution_count": 57,
   "metadata": {},
   "outputs": [],
   "source": [
    "sine_raw_dataset, sine_mdp_history, sine_accumulate_q_table, sine_distribute_q_table = \\\n",
    "    get_mdp_history(\"sine_distribution\")"
   ]
  },
  {
   "cell_type": "code",
   "execution_count": 58,
   "metadata": {},
   "outputs": [],
   "source": [
    "normal_raw_dataset, normal_mdp_history, normal_accumulate_q_table, normal_distribute_q_table = \\\n",
    "    get_mdp_history(\"normal_distribution\")"
   ]
  },
  {
   "cell_type": "code",
   "execution_count": 59,
   "metadata": {},
   "outputs": [],
   "source": [
    "import csv\n",
    "\n",
    "def saveToFile(file_name, data_set):    \n",
    "    with open(file_name, 'w') as csvfile:\n",
    "        fieldnames = ['price', 'reward']\n",
    "        writer = csv.DictWriter(csvfile, fieldnames=fieldnames)\n",
    "        writer.writeheader()        \n",
    "        for item in data_set.items():\n",
    "            writer.writerow({fieldnames[0]:item[0], fieldnames[1]:item[1]})\n",
    "\n",
    "saveToFile(\"sine_accumulate_q_table.csv\", sine_accumulate_q_table)\n",
    "saveToFile(\"sine_distribute_q_table.csv\", sine_distribute_q_table)\n",
    "\n",
    "saveToFile(\"normal_accumulate_q_table.csv\", normal_accumulate_q_table)\n",
    "saveToFile(\"normal_distribute_q_table.csv\", normal_distribute_q_table)\n",
    "\n"
   ]
  },
  {
   "cell_type": "code",
   "execution_count": 60,
   "metadata": {},
   "outputs": [
    {
     "data": {
      "text/plain": [
       "[<matplotlib.lines.Line2D at 0x7f21902e95c0>]"
      ]
     },
     "execution_count": 60,
     "metadata": {},
     "output_type": "execute_result"
    },
    {
     "data": {
      "image/png": "[encoded data removed]",
      "text/plain": [
       "<Figure size 432x288 with 1 Axes>"
      ]
     },
     "metadata": {},
     "output_type": "display_data"
    }
   ],
   "source": [
    "plot_raw_dataset(normal_raw_dataset)\n",
    "plot_raw_dataset(sine_raw_dataset)"
   ]
  },
  {
   "cell_type": "code",
   "execution_count": 61,
   "metadata": {},
   "outputs": [
    {
     "data": {
      "text/plain": [
       "[<matplotlib.lines.Line2D at 0x7f217d08fba8>]"
      ]
     },
     "execution_count": 61,
     "metadata": {},
     "output_type": "execute_result"
    },
    {
     "data": {
      "image/png": "[encoded data removed]",
      "text/plain": [
       "<Figure size 432x288 with 1 Axes>"
      ]
     },
     "metadata": {},
     "output_type": "display_data"
    }
   ],
   "source": [
    "plot_reward_history(normal_mdp_history)\n",
    "plot_reward_history(sine_mdp_history)"
   ]
  },
  {
   "cell_type": "code",
   "execution_count": 62,
   "metadata": {},
   "outputs": [
    {
     "data": {
      "text/plain": [
       "[<matplotlib.lines.Line2D at 0x7f217c3a0be0>]"
      ]
     },
     "execution_count": 62,
     "metadata": {},
     "output_type": "execute_result"
    },
    {
     "data": {
      "image/png": "[encoded data removed]",
      "text/plain": [
       "<Figure size 432x288 with 1 Axes>"
      ]
     },
     "metadata": {},
     "output_type": "display_data"
    }
   ],
   "source": [
    "plot_balance_history(normal_mdp_history)\n",
    "plot_balance_history(sine_mdp_history)"
   ]
  },
  {
   "cell_type": "code",
   "execution_count": 63,
   "metadata": {},
   "outputs": [
    {
     "data": {
      "image/png": "[encoded data removed]",
      "text/plain": [
       "<Figure size 432x288 with 1 Axes>"
      ]
     },
     "metadata": {},
     "output_type": "display_data"
    }
   ],
   "source": [
    "plot_action_utility(sine_accumulate_q_table, sine_distribute_q_table)"
   ]
  },
  {
   "cell_type": "code",
   "execution_count": 64,
   "metadata": {},
   "outputs": [
    {
     "data": {
      "image/png": "[encoded data removed]",
      "text/plain": [
       "<Figure size 432x288 with 1 Axes>"
      ]
     },
     "metadata": {},
     "output_type": "display_data"
    }
   ],
   "source": [
    "plot_action_utility(normal_accumulate_q_table,  normal_distribute_q_table)"
   ]
  },
  {
   "cell_type": "code",
   "execution_count": 65,
   "metadata": {},
   "outputs": [
    {
     "data": {
      "text/plain": [
       "(array([7.55215708e-05, 7.55215708e-05, 3.77607854e-05, 1.51043142e-04,\n",
       "        0.00000000e+00, 0.00000000e+00, 0.00000000e+00, 0.00000000e+00,\n",
       "        0.00000000e+00, 0.00000000e+00, 0.00000000e+00, 0.00000000e+00,\n",
       "        0.00000000e+00, 0.00000000e+00, 0.00000000e+00, 0.00000000e+00,\n",
       "        1.15366752e+00, 2.14594544e-01, 1.64448221e-01, 1.24761635e-01,\n",
       "        8.48484848e-02, 5.75474370e-02, 3.10771264e-02, 1.97866516e-02,\n",
       "        9.21363164e-03, 4.87114132e-03, 2.03908241e-03, 1.28386670e-03,\n",
       "        4.90890211e-04, 1.88803927e-04]),\n",
       " array([-8.92 , -8.385, -7.85 , -7.315, -6.78 , -6.245, -5.71 , -5.175,\n",
       "        -4.64 , -4.105, -3.57 , -3.035, -2.5  , -1.965, -1.43 , -0.895,\n",
       "        -0.36 ,  0.175,  0.71 ,  1.245,  1.78 ,  2.315,  2.85 ,  3.385,\n",
       "         3.92 ,  4.455,  4.99 ,  5.525,  6.06 ,  6.595,  7.13 ]),\n",
       " <a list of 30 Patch objects>)"
      ]
     },
     "execution_count": 65,
     "metadata": {},
     "output_type": "execute_result"
    },
    {
     "data": {
      "image/png": "[encoded data removed]",
      "text/plain": [
       "<Figure size 432x288 with 1 Axes>"
      ]
     },
     "metadata": {},
     "output_type": "display_data"
    }
   ],
   "source": [
    "plot_reward_histogram(sine_mdp_history)\n",
    "plot_reward_histogram(normal_mdp_history)"
   ]
  },
  {
   "cell_type": "code",
   "execution_count": 66,
   "metadata": {},
   "outputs": [
    {
     "data": {
      "image/png": "[encoded data removed]",
      "text/plain": [
       "<Figure size 432x288 with 1 Axes>"
      ]
     },
     "metadata": {},
     "output_type": "display_data"
    }
   ],
   "source": [
    "sine_accumulate_rewards = get_reward_histogram(sine_mdp_history, \"ACCUMULATE_ACTION\")\n",
    "normal_accumulate_rewards = get_reward_histogram(normal_mdp_history, \"ACCUMULATE_ACTION\")"
   ]
  },
  {
   "cell_type": "code",
   "execution_count": 67,
   "metadata": {},
   "outputs": [
    {
     "data": {
      "image/png": "[encoded data removed]",
      "text/plain": [
       "<Figure size 432x288 with 1 Axes>"
      ]
     },
     "metadata": {},
     "output_type": "display_data"
    }
   ],
   "source": [
    "sine_distribute_rewards = get_reward_histogram(sine_mdp_history, \"DISTRIBUTE_ACTION\")\n",
    "normal_distribute_rewards = get_reward_histogram(normal_mdp_history, \"DISTRIBUTE_ACTION\")\n"
   ]
  },
  {
   "cell_type": "code",
   "execution_count": 68,
   "metadata": {},
   "outputs": [
    {
     "data": {
      "image/png": "[encoded data removed]",
      "text/plain": [
       "<Figure size 432x288 with 1 Axes>"
      ]
     },
     "metadata": {},
     "output_type": "display_data"
    }
   ],
   "source": [
    "sine_accumulate_expectation = get_expectation_histogram(sine_accumulate_rewards)\n",
    "normal_accumulate_expectation = get_expectation_histogram(normal_accumulate_rewards)\n"
   ]
  },
  {
   "cell_type": "code",
   "execution_count": 69,
   "metadata": {},
   "outputs": [
    {
     "data": {
      "image/png": "[encoded data removed]",
      "text/plain": [
       "<Figure size 432x288 with 1 Axes>"
      ]
     },
     "metadata": {},
     "output_type": "display_data"
    }
   ],
   "source": [
    "sine_distribute_expectation = get_expectation_histogram(sine_distribute_rewards)\n",
    "normal_distribute_expectation = get_expectation_histogram(normal_distribute_rewards)"
   ]
  },
  {
   "cell_type": "code",
   "execution_count": 70,
   "metadata": {},
   "outputs": [
    {
     "data": {
      "image/png": "[encoded data removed]",
      "text/plain": [
       "<Figure size 432x288 with 1 Axes>"
      ]
     },
     "metadata": {},
     "output_type": "display_data"
    }
   ],
   "source": [
    "sine_donothing_rewards = get_reward_histogram(sine_mdp_history, \"DONOTHING_ACTION\")\n",
    "sine_donothing_expectation = get_expectation_histogram(sine_donothing_rewards)"
   ]
  }
 ],
 "metadata": {
  "kernelspec": {
   "display_name": "conda_python3",
   "language": "python",
   "name": "conda_python3"
  },
  "language_info": {
   "codemirror_mode": {
    "name": "ipython",
    "version": 3
   },
   "file_extension": ".py",
   "mimetype": "text/x-python",
   "name": "python",
   "nbconvert_exporter": "python",
   "pygments_lexer": "ipython3",
   "version": "3.6.5"
  }
 },
 "nbformat": 4,
 "nbformat_minor": 2
}
