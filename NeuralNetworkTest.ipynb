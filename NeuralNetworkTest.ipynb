{
 "cells": [
  {
   "cell_type": "code",
   "execution_count": 1,
   "metadata": {},
   "outputs": [],
   "source": [
    "import numpy as np\n",
    "from numpy import linalg as LA"
   ]
  },
  {
   "cell_type": "code",
   "execution_count": 2,
   "metadata": {},
   "outputs": [],
   "source": [
    "from learn.plot_deep import plot_deep \n",
    "from learn.matrix_init import matrix_init\n",
    "from learn.neural_layer import neural_layer\n",
    "from learn.neural_net import neural_net\n",
    "from learn.dataset_gen import dataset_gen\n",
    "from learn.neural_factory import neural_factory"
   ]
  },
  {
   "cell_type": "code",
   "execution_count": 3,
   "metadata": {},
   "outputs": [],
   "source": [
    "#################\n",
    "################# DEEP NETWORK: TEST\n",
    "#################"
   ]
  },
  {
   "cell_type": "code",
   "execution_count": 10,
   "metadata": {},
   "outputs": [
    {
     "name": "stdout",
     "output_type": "stream",
     "text": [
      "deep_net&layer1  no_of_inputs= 2\n",
      "deep_net&layer1  no_of_neurons= 4\n",
      "deep_net&layer1 layer_name learning_rate= 0.0001\n",
      "deep_net&layer1  weigths_matrix= [[-0.315259   -0.27194995  0.55698168  0.16262392]\n",
      " [ 0.03264118 -0.51904376  0.57685921  0.52526983]\n",
      " [-0.21326583 -0.17622195 -0.12816522  0.28991259]] (3, 4)\n",
      "deep_net&layer2  no_of_inputs= 4\n",
      "deep_net&layer2  no_of_neurons= 1\n",
      "deep_net&layer2 layer_name learning_rate= 0.0001\n",
      "deep_net&layer2  weigths_matrix= [[ 0.30235855]\n",
      " [-0.06042039]\n",
      " [ 0.34768841]\n",
      " [ 0.29336899]\n",
      " [ 0.25128775]] (5, 1)\n",
      "*** FINAL_BIAS= [0.31179707] (1,)\n",
      "*** FINAL_WEIGHTS[0]= -0.17407339891054538 (4,)\n",
      "*** BACKPROP[0] ->  -96.62551216062542 (4,)\n",
      "*** FINAL_BIAS= [0.32067825] (1,)\n",
      "*** FINAL_WEIGHTS[0]= -0.2811069983692919 (4,)\n",
      "*** BACKPROP[0] ->  -90.76998620033561 (4,)\n",
      "*** FINAL_BIAS= [0.32903464] (1,)\n",
      "*** FINAL_WEIGHTS[0]= -0.38190798587438757 (4,)\n",
      "*** BACKPROP[0] ->  -85.25671788150119 (4,)\n",
      "*** FINAL_BIAS= [0.33689693] (1,)\n",
      "*** FINAL_WEIGHTS[0]= -0.4768405583989143 (4,)\n",
      "*** BACKPROP[0] ->  -80.0657070626854 (4,)\n",
      "*** FINAL_BIAS= [0.34429398] (1,)\n",
      "*** FINAL_WEIGHTS[0]= -0.5662476307780098 (4,)\n",
      "*** BACKPROP[0] ->  -75.17812232682596 (4,)\n",
      "*** FINAL_BIAS= [0.35125299] (1,)\n",
      "*** FINAL_WEIGHTS[0]= -0.6504520793477162 (4,)\n",
      "*** BACKPROP[0] ->  -70.57623268588583 (4,)\n",
      "*** FINAL_BIAS= [0.35779955] (1,)\n",
      "*** FINAL_WEIGHTS[0]= -0.7297579129107938 (4,)\n",
      "*** BACKPROP[0] ->  -66.24334327639792 (4,)\n",
      "*** FINAL_BIAS= [0.36395777] (1,)\n",
      "*** FINAL_WEIGHTS[0]= -0.8044513752762041 (4,)\n",
      "*** BACKPROP[0] ->  -62.1637348126923 (4,)\n",
      "*** FINAL_BIAS= [0.36975035] (1,)\n",
      "*** FINAL_WEIGHTS[0]= -0.8748019833708115 (4,)\n",
      "*** BACKPROP[0] ->  -58.32260657822263 (4,)\n",
      "*** FINAL_BIAS= [0.37519865] (1,)\n",
      "*** FINAL_WEIGHTS[0]= -0.9410635046881929 (4,)\n",
      "*** BACKPROP[0] ->  -54.70602274824069 (4,)\n",
      "*** FINAL_BIAS= [0.3803228] (1,)\n",
      "*** FINAL_WEIGHTS[0]= -1.0034748776194398 (4,)\n",
      "*** BACKPROP[0] ->  -51.30086184914809 (4,)\n",
      "*** FINAL_BIAS= [0.38514174] (1,)\n",
      "*** FINAL_WEIGHTS[0]= -1.0622610780036887 (4,)\n",
      "*** BACKPROP[0] ->  -48.09476917123186 (4,)\n",
      "*** FINAL_BIAS= [0.3896733] (1,)\n",
      "*** FINAL_WEIGHTS[0]= -1.1176339350410756 (4,)\n",
      "*** BACKPROP[0] ->  -45.076111962199874 (4,)\n",
      "*** FINAL_BIAS= [0.39393429] (1,)\n",
      "*** FINAL_WEIGHTS[0]= -1.1697928995271591 (4,)\n",
      "*** BACKPROP[0] ->  -42.23393723901818 (4,)\n",
      "*** FINAL_BIAS= [0.39794051] (1,)\n",
      "*** FINAL_WEIGHTS[0]= -1.2189257671949483 (4,)\n",
      "*** BACKPROP[0] ->  -39.55793206504749 (4,)\n",
      "*** FINAL_BIAS= [0.40170685] (1,)\n",
      "*** FINAL_WEIGHTS[0]= -1.265209359787856 (4,)\n",
      "*** BACKPROP[0] ->  -37.03838614841723 (4,)\n",
      "*** FINAL_BIAS= [0.40524735] (1,)\n",
      "*** FINAL_WEIGHTS[0]= -1.3088101663336074 (4,)\n",
      "*** BACKPROP[0] ->  -34.66615662599362 (4,)\n",
      "*** FINAL_BIAS= [0.40857519] (1,)\n",
      "*** FINAL_WEIGHTS[0]= -1.3498849469447907 (4,)\n",
      "*** BACKPROP[0] ->  -32.43263490522495 (4,)\n",
      "*** FINAL_BIAS= [0.4117028] (1,)\n",
      "*** FINAL_WEIGHTS[0]= -1.3885813013358383 (4,)\n",
      "*** BACKPROP[0] ->  -30.329715443610297 (4,)\n",
      "*** FINAL_BIAS= [0.41464189] (1,)\n",
      "*** FINAL_WEIGHTS[0]= -1.425038204118259 (4,)\n",
      "*** BACKPROP[0] ->  -28.34976635256509 (4,)\n",
      "*** FINAL_BIAS= [0.41740348] (1,)\n",
      "*** FINAL_WEIGHTS[0]= -1.4593865088154643 (4,)\n",
      "*** BACKPROP[0] ->  -26.485601719073493 (4,)\n",
      "*** FINAL_BIAS= [0.41999794] (1,)\n",
      "*** FINAL_WEIGHTS[0]= -1.491749422425082 (4,)\n",
      "*** BACKPROP[0] ->  -24.7304555447472 (4,)\n",
      "*** FINAL_BIAS= [0.42243504] (1,)\n",
      "*** FINAL_WEIGHTS[0]= -1.5222429522498395 (4,)\n",
      "*** BACKPROP[0] ->  -23.07795720777637 (4,)\n",
      "*** FINAL_BIAS= [0.42472398] (1,)\n",
      "*** FINAL_WEIGHTS[0]= -1.5509763266175247 (4,)\n",
      "*** BACKPROP[0] ->  -21.522108358781196 (4,)\n",
      "*** FINAL_BIAS= [0.42687342] (1,)\n",
      "*** FINAL_WEIGHTS[0]= -1.5780523910158377 (4,)\n",
      "*** BACKPROP[0] ->  -20.05726116677293 (4,)\n",
      "*** FINAL_BIAS= [0.42889151] (1,)\n",
      "*** FINAL_WEIGHTS[0]= -1.603567981078784 (4,)\n",
      "*** BACKPROP[0] ->  -18.678097836329737 (4,)\n",
      "*** FINAL_BIAS= [0.43078593] (1,)\n",
      "*** FINAL_WEIGHTS[0]= -1.6276142737773074 (4,)\n",
      "*** BACKPROP[0] ->  -17.37961132170281 (4,)\n",
      "*** FINAL_BIAS= [0.43256391] (1,)\n",
      "*** FINAL_WEIGHTS[0]= -1.650277118087816 (4,)\n",
      "*** BACKPROP[0] ->  -16.157087167909218 (4,)\n",
      "*** FINAL_BIAS= [0.43423226] (1,)\n",
      "*** FINAL_WEIGHTS[0]= -1.6716373463378265 (4,)\n",
      "*** BACKPROP[0] ->  -15.186885463188109 (4,)\n",
      "*** FINAL_BIAS= [0.43579738] (1,)\n",
      "*** FINAL_WEIGHTS[0]= -1.6917710673578756 (4,)\n",
      "*** BACKPROP[0] ->  -14.324079564963302 (4,)\n",
      "*** FINAL_BIAS= [0.43726531] (1,)\n",
      "*** FINAL_WEIGHTS[0]= -1.7107499425028638 (4,)\n",
      "*** BACKPROP[0] ->  -13.511689347139232 (4,)\n",
      "*** FINAL_BIAS= [0.43864173] (1,)\n",
      "*** FINAL_WEIGHTS[0]= -1.7286414455438692 (4,)\n",
      "*** BACKPROP[0] ->  -12.746768730197443 (4,)\n",
      "*** FINAL_BIAS= [0.439932] (1,)\n",
      "*** FINAL_WEIGHTS[0]= -1.7455091073729747 (4,)\n",
      "*** BACKPROP[0] ->  -12.02654379114558 (4,)\n",
      "*** FINAL_BIAS= [0.44114114] (1,)\n",
      "*** FINAL_WEIGHTS[0]= -1.7614127464085723 (4,)\n",
      "*** BACKPROP[0] ->  -11.348402703412296 (4,)\n",
      "*** FINAL_BIAS= [0.44227391] (1,)\n",
      "*** FINAL_WEIGHTS[0]= -1.776408685536746 (4,)\n",
      "*** BACKPROP[0] ->  -10.709886264612473 (4,)\n",
      "*** FINAL_BIAS= [0.44333476] (1,)\n",
      "*** FINAL_WEIGHTS[0]= -1.7905499563755136 (4,)\n",
      "*** BACKPROP[0] ->  -10.108678977830145 (4,)\n",
      "*** FINAL_BIAS= [0.44432791] (1,)\n",
      "*** FINAL_WEIGHTS[0]= -1.80388649160272 (4,)\n",
      "*** BACKPROP[0] ->  -9.600488642367512 (4,)\n",
      "*** FINAL_BIAS= [0.4452573] (1,)\n",
      "*** FINAL_WEIGHTS[0]= -1.8164653060450975 (4,)\n",
      "*** BACKPROP[0] ->  -9.226801865604882 (4,)\n",
      "*** FINAL_BIAS= [0.44612668] (1,)\n",
      "*** FINAL_WEIGHTS[0]= -1.8283306671852406 (4,)\n",
      "*** BACKPROP[0] ->  -8.874869771404828 (4,)\n",
      "*** FINAL_BIAS= [0.44693954] (1,)\n",
      "*** FINAL_WEIGHTS[0]= -1.8395242557048679 (4,)\n",
      "*** BACKPROP[0] ->  -8.543421146763118 (4,)\n",
      "*** FINAL_BIAS= [0.44769919] (1,)\n",
      "*** FINAL_WEIGHTS[0]= -1.8500853166466105 (4,)\n",
      "*** BACKPROP[0] ->  -8.231259063011109 (4,)\n",
      "*** FINAL_BIAS= [0.44840875] (1,)\n",
      "*** FINAL_WEIGHTS[0]= -1.8600508017425383 (4,)\n",
      "*** BACKPROP[0] ->  -7.9372565349508735 (4,)\n",
      "*** FINAL_BIAS= [0.44907114] (1,)\n",
      "*** FINAL_WEIGHTS[0]= -1.8694555034256062 (4,)\n",
      "*** BACKPROP[0] ->  -7.660352433652204 (4,)\n",
      "*** FINAL_BIAS= [0.44968913] (1,)\n",
      "*** FINAL_WEIGHTS[0]= -1.8783321810100315 (4,)\n",
      "*** BACKPROP[0] ->  -7.399547638088653 (4,)\n",
      "*** FINAL_BIAS= [0.45026531] (1,)\n",
      "*** FINAL_WEIGHTS[0]= -1.886711679498221 (4,)\n",
      "*** BACKPROP[0] ->  -7.153901411655796 (4,)\n",
      "*** FINAL_BIAS= [0.45080212] (1,)\n",
      "*** FINAL_WEIGHTS[0]= -1.8946230414451195 (4,)\n",
      "*** BACKPROP[0] ->  -6.922527990430575 (4,)\n",
      "*** FINAL_BIAS= [0.45130187] (1,)\n",
      "*** FINAL_WEIGHTS[0]= -1.9020936122856742 (4,)\n",
      "*** BACKPROP[0] ->  -6.768072021257554 (4,)\n",
      "*** FINAL_BIAS= [0.45176673] (1,)\n",
      "*** FINAL_WEIGHTS[0]= -1.9091491395074054 (4,)\n",
      "*** BACKPROP[0] ->  -6.6405054017863465 (4,)\n",
      "*** FINAL_BIAS= [0.45219874] (1,)\n",
      "*** FINAL_WEIGHTS[0]= -1.9158138660277464 (4,)\n",
      "*** BACKPROP[0] ->  -6.520274181648437 (4,)\n",
      "*** FINAL_BIAS= [0.45259981] (1,)\n",
      "*** FINAL_WEIGHTS[0]= -1.9221106181148058 (4,)\n",
      "*** BACKPROP[0] ->  -6.406949768080658 (4,)\n",
      "*** FINAL_BIAS= [0.45297177] (1,)\n",
      "*** FINAL_WEIGHTS[0]= -1.9280608881704069 (4,)\n",
      "*** BACKPROP[0] ->  -6.300128613455189 (4,)\n",
      "*** FINAL_BIAS= [0.45331631] (1,)\n",
      "*** FINAL_WEIGHTS[0]= -1.9336849126756357 (4,)\n",
      "*** BACKPROP[0] ->  -6.199430751746937 (4,)\n",
      "*** FINAL_BIAS= [0.45363504] (1,)\n",
      "*** FINAL_WEIGHTS[0]= -1.939001745581576 (4,)\n",
      "*** BACKPROP[0] ->  -6.1044984205236394 (4,)\n",
      "*** FINAL_BIAS= [0.45392946] (1,)\n",
      "*** FINAL_WEIGHTS[0]= -1.9440293274114002 (4,)\n",
      "*** BACKPROP[0] ->  -6.014994763461035 (4,)\n",
      "*** FINAL_BIAS= [0.45420101] (1,)\n",
      "*** FINAL_WEIGHTS[0]= -1.9487845503244214 (4,)\n",
      "*** BACKPROP[0] ->  -5.93404759198305 (4,)\n",
      "*** FINAL_BIAS= [0.45445102] (1,)\n",
      "*** FINAL_WEIGHTS[0]= -1.9532833193780776 (4,)\n",
      "*** BACKPROP[0] ->  -5.90131421588175 (4,)\n",
      "*** FINAL_BIAS= [0.45468075] (1,)\n",
      "*** FINAL_WEIGHTS[0]= -1.9575406102100208 (4,)\n",
      "*** BACKPROP[0] ->  -5.8703523236670785 (4,)\n",
      "*** FINAL_BIAS= [0.4548914] (1,)\n",
      "*** FINAL_WEIGHTS[0]= -1.9615705233495073 (4,)\n",
      "*** BACKPROP[0] ->  -5.841058465179125 (4,)\n",
      "*** FINAL_BIAS= [0.45508406] (1,)\n",
      "*** FINAL_WEIGHTS[0]= -1.9653863353550591 (4,)\n",
      "*** BACKPROP[0] ->  -5.813335235418545 (4,)\n",
      "*** FINAL_BIAS= [0.45525981] (1,)\n",
      "*** FINAL_WEIGHTS[0]= -1.9690005469638536 (4,)\n",
      "*** BACKPROP[0] ->  -5.787090921292789 (4,)\n",
      "*** FINAL_BIAS= [0.45541963] (1,)\n",
      "*** FINAL_WEIGHTS[0]= -1.9724249284274658 (4,)\n",
      "*** BACKPROP[0] ->  -5.762239169004957 (4,)\n",
      "*** FINAL_BIAS= [0.45556446] (1,)\n",
      "*** FINAL_WEIGHTS[0]= -1.9756705621983794 (4,)\n",
      "*** BACKPROP[0] ->  -5.738698670879037 (4,)\n",
      "*** FINAL_BIAS= [0.45569516] (1,)\n",
      "*** FINAL_WEIGHTS[0]= -1.9787478831220784 (4,)\n",
      "*** BACKPROP[0] ->  -5.716392870485818 (4,)\n",
      "*** FINAL_BIAS= [0.45581258] (1,)\n",
      "*** FINAL_WEIGHTS[0]= -1.98166671628048 (4,)\n",
      "*** BACKPROP[0] ->  -5.695249684999957 (4,)\n",
      "*** FINAL_BIAS= [0.45591749] (1,)\n",
      "*** FINAL_WEIGHTS[0]= -1.9844363126239568 (4,)\n",
      "*** BACKPROP[0] ->  -5.675201243781372 (4,)\n",
      "*** FINAL_BIAS= [0.45601062] (1,)\n",
      "*** FINAL_WEIGHTS[0]= -1.9870653825211733 (4,)\n",
      "*** BACKPROP[0] ->  -5.656183642232804 (4,)\n",
      "*** FINAL_BIAS= [0.45609266] (1,)\n",
      "*** FINAL_WEIGHTS[0]= -1.9895621273484103 (4,)\n",
      "*** BACKPROP[0] ->  -5.638136710040938 (4,)\n",
      "*** FINAL_BIAS= [0.45616426] (1,)\n",
      "*** FINAL_WEIGHTS[0]= -1.9919342692329425 (4,)\n",
      "*** BACKPROP[0] ->  -5.621003792960537 (4,)\n",
      "*** FINAL_BIAS= [0.45622605] (1,)\n",
      "*** FINAL_WEIGHTS[0]= -1.994189079058336 (4,)\n",
      "*** BACKPROP[0] ->  -5.604731547350184 (4,)\n",
      "*** FINAL_BIAS= [0.45627858] (1,)\n",
      "*** FINAL_WEIGHTS[0]= -1.9963334028332365 (4,)\n",
      "*** BACKPROP[0] ->  -5.589269746714503 (4,)\n",
      "*** FINAL_BIAS= [0.45632241] (1,)\n",
      "*** FINAL_WEIGHTS[0]= -1.9983736865192734 (4,)\n",
      "*** BACKPROP[0] ->  -5.57457109955123 (4,)\n",
      "*** FINAL_BIAS= [0.45635804] (1,)\n",
      "*** FINAL_WEIGHTS[0]= -2.000315999408128 (4,)\n",
      "*** BACKPROP[0] ->  -5.560591077842568 (4,)\n",
      "*** FINAL_BIAS= [0.45638596] (1,)\n",
      "*** FINAL_WEIGHTS[0]= -2.0021660561325407 (4,)\n",
      "*** BACKPROP[0] ->  -5.547287755568745 (4,)\n",
      "*** FINAL_BIAS= [0.45640663] (1,)\n",
      "*** FINAL_WEIGHTS[0]= -2.003929237391091 (4,)\n",
      "*** BACKPROP[0] ->  -5.534621656658166 (4,)\n",
      "*** FINAL_BIAS= [0.45642045] (1,)\n",
      "*** FINAL_WEIGHTS[0]= -2.0056106094619053 (4,)\n",
      "*** BACKPROP[0] ->  -5.522555611822793 (4,)\n",
      "*** FINAL_BIAS= [0.45642785] (1,)\n",
      "*** FINAL_WEIGHTS[0]= -2.0072149425760664 (4,)\n",
      "*** BACKPROP[0] ->  -5.511054623759339 (4,)\n",
      "*** FINAL_BIAS= [0.4564292] (1,)\n",
      "*** FINAL_WEIGHTS[0]= -2.0087467282173592 (4,)\n",
      "*** BACKPROP[0] ->  -5.512282790011631 (4,)\n",
      "*** FINAL_BIAS= [0.45642484] (1,)\n",
      "*** FINAL_WEIGHTS[0]= -2.0102101954110907 (4,)\n",
      "*** BACKPROP[0] ->  -5.513831578686018 (4,)\n",
      "*** FINAL_BIAS= [0.45641513] (1,)\n",
      "*** FINAL_WEIGHTS[0]= -2.0116093260610595 (4,)\n",
      "*** BACKPROP[0] ->  -5.515883810009304 (4,)\n",
      "*** FINAL_BIAS= [0.45640037] (1,)\n",
      "*** FINAL_WEIGHTS[0]= -2.012947869390297 (4,)\n",
      "*** BACKPROP[0] ->  -5.527549194745029 (4,)\n",
      "*** FINAL_BIAS= [0.45638086] (1,)\n",
      "*** FINAL_WEIGHTS[0]= -2.014229355537955 (4,)\n",
      "*** BACKPROP[0] ->  -5.538380393293693 (4,)\n",
      "*** FINAL_BIAS= [0.45635688] (1,)\n",
      "*** FINAL_WEIGHTS[0]= -2.015457108361643 (4,)\n",
      "*** BACKPROP[0] ->  -5.548426225344802 (4,)\n",
      "*** FINAL_BIAS= [0.45632869] (1,)\n",
      "*** FINAL_WEIGHTS[0]= -2.0166342574916554 (4,)\n",
      "*** BACKPROP[0] ->  -5.557732657734707 (4,)\n",
      "*** FINAL_BIAS= [0.45629655] (1,)\n",
      "*** FINAL_WEIGHTS[0]= -2.017763749680799 (4,)\n",
      "*** BACKPROP[0] ->  -5.566342971155347 (4,)\n",
      "*** FINAL_BIAS= [0.45626068] (1,)\n",
      "*** FINAL_WEIGHTS[0]= -2.0188483594909834 (4,)\n",
      "*** BACKPROP[0] ->  -5.574297917121311 (4,)\n",
      "*** FINAL_BIAS= [0.45622131] (1,)\n",
      "*** FINAL_WEIGHTS[0]= -2.0198906993553303 (4,)\n",
      "*** BACKPROP[0] ->  -5.581635865764348 (4,)\n",
      "*** FINAL_BIAS= [0.45617865] (1,)\n",
      "*** FINAL_WEIGHTS[0]= -2.0208932290523003 (4,)\n",
      "*** BACKPROP[0] ->  -5.588392944991417 (4,)\n",
      "*** FINAL_BIAS= [0.45613288] (1,)\n"
     ]
    },
    {
     "name": "stdout",
     "output_type": "stream",
     "text": [
      "*** FINAL_WEIGHTS[0]= -2.0218582646261862 (4,)\n",
      "*** BACKPROP[0] ->  -5.594603171510898 (4,)\n",
      "*** FINAL_BIAS= [0.45608419] (1,)\n",
      "*** FINAL_WEIGHTS[0]= -2.022787986786333 (4,)\n",
      "*** BACKPROP[0] ->  -5.600298574202209 (4,)\n",
      "*** FINAL_BIAS= [0.45603276] (1,)\n",
      "*** FINAL_WEIGHTS[0]= -2.023684448815543 (4,)\n",
      "*** BACKPROP[0] ->  -5.605509310276212 (4,)\n",
      "*** FINAL_BIAS= [0.45597875] (1,)\n",
      "*** FINAL_WEIGHTS[0]= -2.0245495840163446 (4,)\n",
      "*** BACKPROP[0] ->  -5.610263774647671 (4,)\n",
      "*** FINAL_BIAS= [0.4559223] (1,)\n",
      "*** FINAL_WEIGHTS[0]= -2.0253852127221332 (4,)\n",
      "*** BACKPROP[0] ->  -5.614588702916471 (4,)\n",
      "*** FINAL_BIAS= [0.45586357] (1,)\n",
      "*** FINAL_WEIGHTS[0]= -2.0261930488986137 (4,)\n",
      "*** BACKPROP[0] ->  -5.618509268331042 (4,)\n",
      "*** FINAL_BIAS= [0.4558027] (1,)\n",
      "*** FINAL_WEIGHTS[0]= -2.0269747063594767 (4,)\n",
      "*** BACKPROP[0] ->  -5.622049173085618 (4,)\n",
      "*** FINAL_BIAS= [0.4557398] (1,)\n",
      "*** FINAL_WEIGHTS[0]= -2.0277317046188617 (4,)\n",
      "*** BACKPROP[0] ->  -5.625230734282514 (4,)\n",
      "*** FINAL_BIAS= [0.455675] (1,)\n",
      "*** FINAL_WEIGHTS[0]= -2.0284654744018233 (4,)\n",
      "*** BACKPROP[0] ->  -5.628074964871072 (4,)\n",
      "*** FINAL_BIAS= [0.45560841] (1,)\n",
      "*** FINAL_WEIGHTS[0]= -2.029177362832792 (4,)\n",
      "*** BACKPROP[0] ->  -5.630601649856958 (4,)\n",
      "*** FINAL_BIAS= [0.45554014] (1,)\n",
      "*** FINAL_WEIGHTS[0]= -2.02986863832084 (4,)\n",
      "*** BACKPROP[0] ->  -5.632829418057978 (4,)\n",
      "*** FINAL_BIAS= [0.45547029] (1,)\n",
      "*** FINAL_WEIGHTS[0]= -2.030540495159476 (4,)\n",
      "*** BACKPROP[0] ->  -5.634775809666946 (4,)\n",
      "*** FINAL_BIAS= [0.45539896] (1,)\n",
      "*** FINAL_WEIGHTS[0]= -2.0311940578576424 (4,)\n",
      "*** BACKPROP[0] ->  -5.63645733986633 (4,)\n"
     ]
    }
   ],
   "source": [
    "deep_test_net = neural_factory.get_neural_net(no_of_inputs=2, no_of_neurons_layer1=4, no_of_neurons_layer2=1)\n",
    "random_input_set, input_examples, output_training_set, training_dataset = dataset_gen.get_test_dataset()\n",
    "predicted_outputs_layer2, net_losses_layer2, \\\n",
    "    net_losses_layer1, net_losses_layer0, \\\n",
    "    param_conditioning_layer2, param_conditioning_layer1, \\\n",
    "    large_singular_value_layer1, small_singular_value_layer1, \\\n",
    "    large_singular_value_layer2, small_singular_value_layer2 = \\\n",
    "        dataset_gen.data_default_gathering(input_examples, output_training_set, deep_test_net, no_of_epochs=100)"
   ]
  },
  {
   "cell_type": "code",
   "execution_count": 11,
   "metadata": {},
   "outputs": [
    {
     "data": {
      "text/plain": [
       "[<matplotlib.lines.Line2D at 0x7fabeefa7898>]"
      ]
     },
     "execution_count": 11,
     "metadata": {},
     "output_type": "execute_result"
    },
    {
     "data": {
      "image/png": "[encoded data removed]",
      "text/plain": [
       "<Figure size 432x288 with 1 Axes>"
      ]
     },
     "metadata": {},
     "output_type": "display_data"
    }
   ],
   "source": [
    "# Summary neural net test\n",
    "plot_deep.plot_labeled_line(net_losses_layer0, \\\n",
    "                'Layer0 training (neural_net)', 'epoch', 'loss')"
   ]
  },
  {
   "cell_type": "code",
   "execution_count": 12,
   "metadata": {},
   "outputs": [
    {
     "data": {
      "text/plain": [
       "[<matplotlib.lines.Line2D at 0x7fabeef376d8>]"
      ]
     },
     "execution_count": 12,
     "metadata": {},
     "output_type": "execute_result"
    },
    {
     "data": {
      "image/png": "[encoded data removed]",
      "text/plain": [
       "<Figure size 432x288 with 1 Axes>"
      ]
     },
     "metadata": {},
     "output_type": "display_data"
    }
   ],
   "source": [
    "# Summary neural net test\n",
    "plot_deep.plot_labeled_line(net_losses_layer1, \\\n",
    "                'Layer1 training (neural_net)', 'epoch', 'loss')"
   ]
  },
  {
   "cell_type": "code",
   "execution_count": 13,
   "metadata": {},
   "outputs": [
    {
     "data": {
      "text/plain": [
       "[<matplotlib.lines.Line2D at 0x7fabeee9a748>]"
      ]
     },
     "execution_count": 13,
     "metadata": {},
     "output_type": "execute_result"
    },
    {
     "data": {
      "image/png": "[encoded data removed]",
      "text/plain": [
       "<Figure size 432x288 with 1 Axes>"
      ]
     },
     "metadata": {},
     "output_type": "display_data"
    }
   ],
   "source": [
    "# Summary neural net test\n",
    "plot_deep.plot_labeled_line(net_losses_layer2, \\\n",
    "                'Layer2 training (neural_net)', 'epoch', 'loss')"
   ]
  },
  {
   "cell_type": "code",
   "execution_count": 14,
   "metadata": {},
   "outputs": [
    {
     "data": {
      "image/png": "[encoded data removed]",
      "text/plain": [
       "<Figure size 432x288 with 1 Axes>"
      ]
     },
     "metadata": {},
     "output_type": "display_data"
    }
   ],
   "source": [
    "# TODO: different labels\n",
    "# print(\"param_conditioning_layer2=\", param_conditioning_layer2)\n",
    "# print(\"param_conditioning_layer1=\", param_conditioning_layer1)\n",
    "plot_deep.plot_multi_line(param_conditioning_layer2, 'layer 2', param_conditioning_layer1, 'layer 1', \\\n",
    "                'training (neural_net)', 'epoch', 'parameter conditioning')"
   ]
  },
  {
   "cell_type": "code",
   "execution_count": null,
   "metadata": {},
   "outputs": [],
   "source": []
  },
  {
   "cell_type": "code",
   "execution_count": null,
   "metadata": {},
   "outputs": [],
   "source": []
  }
 ],
 "metadata": {
  "kernelspec": {
   "display_name": "conda_python3",
   "language": "python",
   "name": "conda_python3"
  },
  "language_info": {
   "codemirror_mode": {
    "name": "ipython",
    "version": 3
   },
   "file_extension": ".py",
   "mimetype": "text/x-python",
   "name": "python",
   "nbconvert_exporter": "python",
   "pygments_lexer": "ipython3",
   "version": "3.6.5"
  }
 },
 "nbformat": 4,
 "nbformat_minor": 2
}
