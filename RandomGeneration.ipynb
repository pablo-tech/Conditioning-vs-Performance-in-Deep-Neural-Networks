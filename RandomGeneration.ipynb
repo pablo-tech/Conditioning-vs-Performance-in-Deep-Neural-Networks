{
 "cells": [
  {
   "cell_type": "code",
   "execution_count": 25,
   "metadata": {},
   "outputs": [],
   "source": [
    "# https://www.python-course.eu/neural_networks_with_python_numpy.php\n",
    "\n",
    "# We can easily see that it would not be a good idea to set all the weight values to 0, \n",
    "# because in this case the result of this summation will always be zero. \n",
    "# This means that our network will be incapable of learning. \n",
    "# This is the worst choice, but initializing a weight matrix to ones is also a bad choice.\n",
    " \n",
    " \n",
    "# The values for the weight matrices should be chosen randomly and not arbitrarily. \n",
    "# By choosing a random normal distribution we have broken possible symmetric situations, \n",
    "# which are bad for the learning process."
   ]
  },
  {
   "cell_type": "code",
   "execution_count": 15,
   "metadata": {},
   "outputs": [
    {
     "data": {
      "text/plain": [
       "(array([122., 124., 117., 122., 127., 118., 113., 126., 105., 126.]),\n",
       " array([-9.98541954e-01, -8.98729164e-01, -7.98916374e-01, -6.99103584e-01,\n",
       "        -5.99290794e-01, -4.99478004e-01, -3.99665215e-01, -2.99852425e-01,\n",
       "        -2.00039635e-01, -1.00226845e-01, -4.14055158e-04]),\n",
       " <a list of 10 Patch objects>)"
      ]
     },
     "execution_count": 15,
     "metadata": {},
     "output_type": "execute_result"
    },
    {
     "data": {
      "image/png": "[encoded data removed]",
      "text/plain": [
       "<Figure size 432x288 with 1 Axes>"
      ]
     },
     "metadata": {},
     "output_type": "display_data"
    }
   ],
   "source": [
    "import numpy as np\n",
    "\n",
    "number_of_samples = 1200\n",
    "\n",
    "low = -1\n",
    "high = 0\n",
    "\n",
    "uniform_dataset = np.random.uniform(low, high, number_of_samples)\n",
    "\n",
    "plt.hist(uniform_dataset)\n"
   ]
  },
  {
   "cell_type": "code",
   "execution_count": 26,
   "metadata": {},
   "outputs": [
    {
     "data": {
      "text/plain": [
       "(array([  7.,  38., 117., 231., 276., 316., 123.,  77.,  10.,   5.]),\n",
       " array([34. , 37.4, 40.8, 44.2, 47.6, 51. , 54.4, 57.8, 61.2, 64.6, 68. ]),\n",
       " <a list of 10 Patch objects>)"
      ]
     },
     "execution_count": 26,
     "metadata": {},
     "output_type": "execute_result"
    },
    {
     "data": {
      "image/png": "[encoded data removed]",
      "text/plain": [
       "<Figure size 432x288 with 1 Axes>"
      ]
     },
     "metadata": {},
     "output_type": "display_data"
    }
   ],
   "source": [
    "# binomial(n, p, size=None)\n",
    "\n",
    "# It draws samples from a binomial distribution with specified parameters, \n",
    "# n trials and p probability of success where n is an integer >= 0 and p is a float in the interval [0,1]. \n",
    "# (n may be input as a float, but it is truncated to an integer in use)\n",
    "\n",
    "binomial_dataset = np.random.binomial(100, 0.5, 1200)\n",
    "\n",
    "plt.hist(binomial_dataset)\n"
   ]
  },
  {
   "cell_type": "code",
   "execution_count": 27,
   "metadata": {},
   "outputs": [],
   "source": [
    "# We like to create random numbers with a normal distribution, but the numbers have to be bounded. \n",
    "# This is not the case with np.random.normal(), because it doesn't offer any bound parameter.\n"
   ]
  },
  {
   "cell_type": "code",
   "execution_count": 28,
   "metadata": {},
   "outputs": [
    {
     "data": {
      "text/plain": [
       "(array([ 76.,  89., 109., 113.,  97., 106., 101., 127.,  91.,  91.]),\n",
       " array([-0.66526033, -0.53254007, -0.3998198 , -0.26709954, -0.13437928,\n",
       "        -0.00165902,  0.13106124,  0.2637815 ,  0.39650176,  0.52922202,\n",
       "         0.66194228]),\n",
       " <a list of 10 Patch objects>)"
      ]
     },
     "execution_count": 28,
     "metadata": {},
     "output_type": "execute_result"
    },
    {
     "data": {
      "image/png": "[encoded data removed]",
      "text/plain": [
       "<Figure size 432x288 with 1 Axes>"
      ]
     },
     "metadata": {},
     "output_type": "display_data"
    }
   ],
   "source": [
    "# The standard form of this distribution is a standard normal truncated to the range [a, b] — \n",
    "# notice that a and b are defined over the domain of the standard normal. \n",
    "# To convert clip values for a specific mean and standard deviation, use:\n",
    "\n",
    "# a, b = (myclip_a - my_mean) / my_std, (myclip_b - my_mean) / my_std\n",
    "\n",
    "\n",
    "from scipy.stats import truncnorm\n",
    "\n",
    "truncated_dataset = truncnorm(a=-2/3., b=2/3., scale=1, loc=0).rvs(size=1000)\n",
    "\n",
    "plt.hist(truncated_dataset)\n"
   ]
  },
  {
   "cell_type": "code",
   "execution_count": 29,
   "metadata": {},
   "outputs": [
    {
     "data": {
      "text/plain": [
       "(array([ 661.,  858., 1029., 1212., 1244., 1314., 1119., 1019.,  857.,\n",
       "         687.]),\n",
       " array([-4.99895384e-01, -3.99928119e-01, -2.99960854e-01, -1.99993589e-01,\n",
       "        -1.00026323e-01, -5.90580039e-05,  9.99082073e-02,  1.99875473e-01,\n",
       "         2.99842738e-01,  3.99810003e-01,  4.99777268e-01]),\n",
       " <a list of 10 Patch objects>)"
      ]
     },
     "execution_count": 29,
     "metadata": {},
     "output_type": "execute_result"
    },
    {
     "data": {
      "image/png": "[encoded data removed]",
      "text/plain": [
       "<Figure size 432x288 with 1 Axes>"
      ]
     },
     "metadata": {},
     "output_type": "display_data"
    }
   ],
   "source": [
    "# The function 'truncnorm' is difficult to use. \n",
    "# To make life easier, we define a function 'truncated_normal' in the following to fascilitate this task:\n",
    "\n",
    "def truncated_normal(mean=0, sd=1, low=0, upp=10):\n",
    "    return truncnorm(\n",
    "        (low - mean) / sd, (upp - mean) / sd, loc=mean, scale=sd)\n",
    "\n",
    "X = truncated_normal(mean=0, sd=0.4, low=-0.5, upp=0.5)\n",
    "truncated_normal_dataset = X.rvs(10000)\n",
    "\n",
    "plt.hist(truncated_normal_dataset)"
   ]
  },
  {
   "cell_type": "code",
   "execution_count": 30,
   "metadata": {},
   "outputs": [
    {
     "name": "stderr",
     "output_type": "stream",
     "text": [
      "/home/ec2-user/anaconda3/envs/python3/lib/python3.6/site-packages/matplotlib/axes/_axes.py:6462: UserWarning: The 'normed' kwarg is deprecated, and has been replaced by the 'density' kwarg.\n",
      "  warnings.warn(\"The 'normed' kwarg is deprecated, and has been \"\n"
     ]
    },
    {
     "data": {
      "image/png": "[encoded data removed]",
      "text/plain": [
       "<Figure size 432x288 with 3 Axes>"
      ]
     },
     "metadata": {},
     "output_type": "display_data"
    }
   ],
   "source": [
    "# Examples of truncated normal\n",
    "\n",
    "X1 = truncated_normal(mean=2, sd=1, low=1, upp=10)\n",
    "X2 = truncated_normal(mean=5.5, sd=1, low=1, upp=10)\n",
    "X3 = truncated_normal(mean=8, sd=1, low=1, upp=10)\n",
    "\n",
    "import matplotlib.pyplot as plt\n",
    "\n",
    "fig, ax = plt.subplots(3, sharex=True)\n",
    "ax[0].hist(X1.rvs(10000), normed=True)\n",
    "ax[1].hist(X2.rvs(10000), normed=True)\n",
    "ax[2].hist(X3.rvs(10000), normed=True)\n",
    "plt.show()"
   ]
  },
  {
   "cell_type": "code",
   "execution_count": null,
   "metadata": {},
   "outputs": [],
   "source": []
  }
 ],
 "metadata": {
  "kernelspec": {
   "display_name": "conda_python3",
   "language": "python",
   "name": "conda_python3"
  },
  "language_info": {
   "codemirror_mode": {
    "name": "ipython",
    "version": 3
   },
   "file_extension": ".py",
   "mimetype": "text/x-python",
   "name": "python",
   "nbconvert_exporter": "python",
   "pygments_lexer": "ipython3",
   "version": "3.6.5"
  }
 },
 "nbformat": 4,
 "nbformat_minor": 2
}
